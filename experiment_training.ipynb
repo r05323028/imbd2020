{
 "metadata": {
  "language_info": {
   "codemirror_mode": {
    "name": "ipython",
    "version": 3
   },
   "file_extension": ".py",
   "mimetype": "text/x-python",
   "name": "python",
   "nbconvert_exporter": "python",
   "pygments_lexer": "ipython3",
   "version": 3
  },
  "orig_nbformat": 2,
  "kernelspec": {
   "name": "python_defaultSpec_1596080812593",
   "display_name": "Python 3.6.10 64-bit ('imbd2020': pipenv)"
  }
 },
 "nbformat": 4,
 "nbformat_minor": 2,
 "cells": [
  {
   "cell_type": "code",
   "execution_count": null,
   "metadata": {
    "tags": []
   },
   "outputs": [],
   "source": [
    "from xgboost import XGBRegressor, XGBRFRegressor\n",
    "from lightgbm import LGBMRegressor\n",
    "from sklearn.pipeline import Pipeline\n",
    "from sklearn.multioutput import MultiOutputRegressor, RegressorChain\n",
    "from sklearn.ensemble import VotingRegressor\n",
    "import numpy as np\n",
    "import matplotlib.pyplot as plt\n",
    "import seaborn as sns\n",
    "import plotly.express as px\n",
    "import pandas as pd\n",
    "import tensorflow as tf\n",
    "\n",
    "from imbd.trainers import ModelTrainer\n",
    "from imbd.data import DataLoader\n",
    "from imbd.preprocessors import DataPreprocessor\n",
    "from imbd.models import KerasModel"
   ]
  },
  {
   "cell_type": "code",
   "execution_count": null,
   "metadata": {},
   "outputs": [],
   "source": [
    "loader = DataLoader()\n",
    "prepro = DataPreprocessor()\n"
   ]
  },
  {
   "cell_type": "code",
   "execution_count": null,
   "metadata": {},
   "outputs": [],
   "source": [
    "# initialization\n",
    "loader = DataLoader()\n",
    "preprocessor = DataPreprocessor()\n",
    "df = loader.build()\n",
    "\n",
    "# get feature & label\n",
    "train_features = df.drop(loader.labels, axis=1)\n",
    "train_labels = df[loader.labels]"
   ]
  },
  {
   "cell_type": "code",
   "execution_count": null,
   "metadata": {
    "tags": []
   },
   "outputs": [],
   "source": [
    "order = [0, 2, 5, 7, 13, 14, 16, 17] + [1, 3, 4, 6, 8, 9, 11, 12, 15, 18, 19] + [10]\n",
    "base_model = RegressorChain(LGBMRegressor(), order=order)"
   ]
  },
  {
   "cell_type": "code",
   "execution_count": null,
   "metadata": {},
   "outputs": [],
   "source": [
    "\n",
    "param_grid = {\n",
    "    # \"prepro__variance_selector__threshold\": [0.0],\n",
    "    \"base_estimator__boosting_type\": ['gbdt'],\n",
    "    # \"base_estimator__tree_learner\":\n",
    "    # [\"serial\", \"feature\"],\n",
    "    \"base_estimator__max_depth\": [2, 6, -1],\n",
    "    \"base_estimator__min_child_samples\": [10, 20],\n",
    "    \"base_estimator__subsample\": [0.5, 1],\n",
    "    \"base_estimator__n_estimators\": [1000],\n",
    "    # \"base_estimator__num_leaves \": [15, 31],\n",
    "    \"base_estimator__colsample_bytree\": [0.5, 1],\n",
    "    \"base_estimator__num_leaves\": [4, 64],\n",
    "    # \"base_estimator__reg_alpha\": [0.0, 0.05],\n",
    "    # \"base_estimator__reg_lambda\": [0.0, 0.05],\n",
    "}"
   ]
  },
  {
   "cell_type": "code",
   "execution_count": null,
   "metadata": {},
   "outputs": [],
   "source": [
    "uniq_table = train_features.filter(regex='(Input_A[0-6]_[0-9]+|Output_A[0-6])').nunique().sort_values()\n",
    "uniq_table[(uniq_table > 1) & (uniq_table < 10)].to_dict()"
   ]
  },
  {
   "cell_type": "code",
   "execution_count": null,
   "metadata": {},
   "outputs": [],
   "source": [
    "# build pipeline\n",
    "# steps = [('prepro', preprocessor), ('model', base_model)]\n",
    "# pipe = Pipeline(steps=steps)\n",
    "train_features = preprocessor.fit_transform(train_features)"
   ]
  },
  {
   "cell_type": "code",
   "execution_count": null,
   "metadata": {
    "tags": []
   },
   "outputs": [],
   "source": [
    "# training\n",
    "trainer = ModelTrainer(base_model=base_model, param_grid=param_grid, verbose=2)\n",
    "# fitted = trainer.fit(train_features, train_labels)\n",
    "fitted = trainer.fit(train_features, train_labels)"
   ]
  },
  {
   "cell_type": "code",
   "execution_count": null,
   "metadata": {},
   "outputs": [],
   "source": [
    "fitted.best_score_"
   ]
  },
  {
   "cell_type": "code",
   "execution_count": null,
   "metadata": {},
   "outputs": [],
   "source": [
    "fitted.best_params_"
   ]
  },
  {
   "cell_type": "code",
   "execution_count": null,
   "metadata": {},
   "outputs": [],
   "source": [
    "pd.DataFrame(fitted.cv_results_)"
   ]
  },
  {
   "cell_type": "code",
   "execution_count": null,
   "metadata": {},
   "outputs": [],
   "source": [
    "test_loader = DataLoader(data_fp='data/0728test.csv', data_type='test')"
   ]
  },
  {
   "cell_type": "code",
   "execution_count": null,
   "metadata": {},
   "outputs": [],
   "source": [
    "test_features = test_loader.build()\n",
    "test_features = preprocessor.transform(test_features)\n",
    "pred = fitted.predict(test_features)"
   ]
  },
  {
   "cell_type": "code",
   "execution_count": null,
   "metadata": {},
   "outputs": [],
   "source": [
    "pd.DataFrame(pred, columns=loader.labels)"
   ]
  }
 ]
}